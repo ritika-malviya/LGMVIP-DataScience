{
 "cells": [
  {
   "cell_type": "markdown",
   "id": "d5c475ba",
   "metadata": {},
   "source": [
    "# LETS GROW MORE DATA SCIENCE INTERSHIP(VIP)\n",
    "# Name: Ritika J. Malviya\n",
    "# Title:  Develop A Neural Network That Can Read Handwriting\n",
    "# Level : Advance\n",
    "# Batch: June\n",
    "# Dataset link : https://en.wikipedia.org/wiki/MNIST_database "
   ]
  },
  {
   "cell_type": "code",
   "execution_count": 1,
   "id": "af6b9163",
   "metadata": {},
   "outputs": [],
   "source": [
    "# Importing Libraries\n",
    "import numpy as np\n",
    "import tensorflow as tf\n",
    "from matplotlib import pyplot as plt\n",
    "import seaborn as sns"
   ]
  },
  {
   "cell_type": "code",
   "execution_count": 2,
   "id": "8e31b211",
   "metadata": {},
   "outputs": [],
   "source": [
    "# Loading the dataset \n",
    "(x_train,y_train),(x_test,y_test)=tf.keras.datasets.mnist.load_data()"
   ]
  },
  {
   "cell_type": "code",
   "execution_count": 3,
   "id": "feab9932",
   "metadata": {},
   "outputs": [
    {
     "data": {
      "image/png": "[encoded data removed]",
      "text/plain": [
       "<Figure size 720x288 with 5 Axes>"
      ]
     },
     "metadata": {
      "needs_background": "light"
     },
     "output_type": "display_data"
    }
   ],
   "source": [
    "# Displaying some dataset images\n",
    "fig, axes = plt.subplots(ncols=5, sharex=False,\n",
    "    sharey=True, figsize=(10, 4))\n",
    "for i in range(5):\n",
    "    axes[i].set_title(y_train[i])\n",
    "    axes[i].imshow(x_train[i], cmap='gray_r')\n",
    "    axes[i].get_xaxis().set_visible(False)\n",
    "    axes[i].get_yaxis().set_visible(False)\n",
    "plt.show()   "
   ]
  },
  {
   "cell_type": "code",
   "execution_count": 4,
   "id": "140e2203",
   "metadata": {},
   "outputs": [],
   "source": [
    "# PreProcessing the data"
   ]
  },
  {
   "cell_type": "code",
   "execution_count": 5,
   "id": "1586a12c",
   "metadata": {},
   "outputs": [
    {
     "name": "stdout",
     "output_type": "stream",
     "text": [
      "Training images shape:  (60000, 28, 28)\n",
      "Testing images shape:  (10000, 28, 28)\n"
     ]
    }
   ],
   "source": [
    "print('Training images shape: ',x_train.shape)\n",
    "print('Testing images shape: ',x_test.shape)"
   ]
  },
  {
   "cell_type": "code",
   "execution_count": 6,
   "id": "b59576aa",
   "metadata": {},
   "outputs": [],
   "source": [
    "x_train = x_train.reshape(x_train.shape[0], 28, 28, 1)\n",
    "x_test = x_test.reshape(x_test.shape[0], 28, 28, 1)\n",
    "input_shape = (28, 28, 1)"
   ]
  },
  {
   "cell_type": "code",
   "execution_count": 7,
   "id": "e9ac2c45",
   "metadata": {},
   "outputs": [],
   "source": [
    "# #divide by 255 to normalize it to 0 to 1\n",
    "x_train=x_train/255.0\n",
    "x_testg=x_test/255.0\n",
    "num_classes = 10"
   ]
  },
  {
   "cell_type": "code",
   "execution_count": 8,
   "id": "ecf53f63",
   "metadata": {},
   "outputs": [],
   "source": [
    "# Creating the Model "
   ]
  },
  {
   "cell_type": "code",
   "execution_count": 9,
   "id": "07e282a0",
   "metadata": {},
   "outputs": [],
   "source": [
    "from tensorflow import keras\n",
    "from tensorflow.keras import datasets, layers, models"
   ]
  },
  {
   "cell_type": "code",
   "execution_count": 10,
   "id": "3b62533c",
   "metadata": {},
   "outputs": [],
   "source": [
    "#CNN\n",
    "cnn=keras.Sequential([\n",
    "    layers.Conv2D(filters=48,kernel_size=(3,3),activation='relu', input_shape=(28,28,1)),\n",
    "    layers.MaxPooling2D((2,2)),\n",
    "    layers.Conv2D(filters=64,kernel_size=(3,3),activation='relu'),\n",
    "    layers.MaxPooling2D((2,2)),\n",
    "    layers.Dropout(0.5),\n",
    "    layers.Flatten(),\n",
    "    layers.Dense(500, activation='relu'),\n",
    "    keras.layers.Dense(10, activation='softmax')\n",
    "])"
   ]
  },
  {
   "cell_type": "code",
   "execution_count": 11,
   "id": "9ebd164c",
   "metadata": {},
   "outputs": [
    {
     "name": "stdout",
     "output_type": "stream",
     "text": [
      "Model: \"sequential\"\n",
      "_________________________________________________________________\n",
      " Layer (type)                Output Shape              Param #   \n",
      "=================================================================\n",
      " conv2d (Conv2D)             (None, 26, 26, 48)        480       \n",
      "                                                                 \n",
      " max_pooling2d (MaxPooling2D  (None, 13, 13, 48)       0         \n",
      " )                                                               \n",
      "                                                                 \n",
      " conv2d_1 (Conv2D)           (None, 11, 11, 64)        27712     \n",
      "                                                                 \n",
      " max_pooling2d_1 (MaxPooling  (None, 5, 5, 64)         0         \n",
      " 2D)                                                             \n",
      "                                                                 \n",
      " dropout (Dropout)           (None, 5, 5, 64)          0         \n",
      "                                                                 \n",
      " flatten (Flatten)           (None, 1600)              0         \n",
      "                                                                 \n",
      " dense (Dense)               (None, 500)               800500    \n",
      "                                                                 \n",
      " dense_1 (Dense)             (None, 10)                5010      \n",
      "                                                                 \n",
      "=================================================================\n",
      "Total params: 833,702\n",
      "Trainable params: 833,702\n",
      "Non-trainable params: 0\n",
      "_________________________________________________________________\n"
     ]
    }
   ],
   "source": [
    "cnn.summary()"
   ]
  },
  {
   "cell_type": "code",
   "execution_count": 12,
   "id": "581b206e",
   "metadata": {},
   "outputs": [
    {
     "name": "stdout",
     "output_type": "stream",
     "text": [
      "Epoch 1/10\n",
      "1875/1875 [==============================] - 274s 145ms/step - loss: 0.1462 - accuracy: 0.9536\n",
      "Epoch 2/10\n",
      "1875/1875 [==============================] - 264s 141ms/step - loss: 0.0599 - accuracy: 0.9812\n",
      "Epoch 3/10\n",
      "1875/1875 [==============================] - 235s 125ms/step - loss: 0.0463 - accuracy: 0.9853\n",
      "Epoch 4/10\n",
      "1875/1875 [==============================] - 226s 121ms/step - loss: 0.0363 - accuracy: 0.9885\n",
      "Epoch 5/10\n",
      "1875/1875 [==============================] - 224s 120ms/step - loss: 0.0320 - accuracy: 0.9901\n",
      "Epoch 6/10\n",
      "1875/1875 [==============================] - 229s 122ms/step - loss: 0.0282 - accuracy: 0.9907\n",
      "Epoch 7/10\n",
      "1875/1875 [==============================] - 228s 122ms/step - loss: 0.0242 - accuracy: 0.9919\n",
      "Epoch 8/10\n",
      "1875/1875 [==============================] - 228s 121ms/step - loss: 0.0221 - accuracy: 0.9927\n",
      "Epoch 9/10\n",
      "1875/1875 [==============================] - 228s 122ms/step - loss: 0.0213 - accuracy: 0.9932\n",
      "Epoch 10/10\n",
      "1875/1875 [==============================] - 228s 121ms/step - loss: 0.0188 - accuracy: 0.9941\n"
     ]
    },
    {
     "data": {
      "text/plain": [
       "<keras.callbacks.History at 0x1d7f1315fd0>"
      ]
     },
     "execution_count": 12,
     "metadata": {},
     "output_type": "execute_result"
    }
   ],
   "source": [
    "# Training the Model \n",
    "cnn.compile(optimizer='adam',\n",
    "              loss='sparse_categorical_crossentropy',\n",
    "              metrics=['accuracy'])\n",
    "\n",
    "cnn.fit(x_train, y_train, epochs=10)"
   ]
  },
  {
   "cell_type": "code",
   "execution_count": 13,
   "id": "d3e55f50",
   "metadata": {},
   "outputs": [
    {
     "name": "stdout",
     "output_type": "stream",
     "text": [
      "313/313 [==============================] - 15s 48ms/step\n",
      "Predicted Value:  9\n",
      "Successful prediction\n"
     ]
    },
    {
     "data": {
      "image/png": "[encoded data removed]",
      "text/plain": [
       "<Figure size 432x288 with 1 Axes>"
      ]
     },
     "metadata": {
      "needs_background": "light"
     },
     "output_type": "display_data"
    }
   ],
   "source": [
    "plt.imshow((tf.squeeze(x_test[7])))\n",
    "plt.title('Actual Value: {}'.format(y_test[7]))\n",
    "y_pred=cnn.predict(x_test)\n",
    "y_pred[:5]\n",
    "\n",
    "plt.axis('off')\n",
    "print('Predicted Value: ',np.argmax(y_pred[7]))\n",
    "if(y_test[7]==(np.argmax(y_pred[7]))):\n",
    "  print('Successful prediction')\n",
    "else:\n",
    "  print('Unsuccessful prediction')"
   ]
  },
  {
   "cell_type": "code",
   "execution_count": 16,
   "id": "ac8e5df2",
   "metadata": {},
   "outputs": [
    {
     "name": "stdout",
     "output_type": "stream",
     "text": [
      "313/313 [==============================] - 17s 54ms/step\n",
      "Predicted Value:  3\n",
      "Successful prediction\n"
     ]
    },
    {
     "data": {
      "image/png": "[encoded data removed]",
      "text/plain": [
       "<Figure size 432x288 with 1 Axes>"
      ]
     },
     "metadata": {
      "needs_background": "light"
     },
     "output_type": "display_data"
    }
   ],
   "source": [
    "plt.imshow((tf.squeeze(x_test[90])))\n",
    "plt.title('Actual Value: {}'.format(y_test[90]))\n",
    "y_pred=cnn.predict(x_test)\n",
    "y_pred[:5]\n",
    "\n",
    "plt.axis('off')\n",
    "print('Predicted Value: ',np.argmax(y_pred[90]))\n",
    "if(y_test[90]==(np.argmax(y_pred[90]))):\n",
    "  print('Successful prediction')\n",
    "else:\n",
    "  print('Unsuccessful prediction')"
   ]
  }
 ],
 "metadata": {
  "kernelspec": {
   "display_name": "Python 3 (ipykernel)",
   "language": "python",
   "name": "python3"
  },
  "language_info": {
   "codemirror_mode": {
    "name": "ipython",
    "version": 3
   },
   "file_extension": ".py",
   "mimetype": "text/x-python",
   "name": "python",
   "nbconvert_exporter": "python",
   "pygments_lexer": "ipython3",
   "version": "3.9.7"
  }
 },
 "nbformat": 4,
 "nbformat_minor": 5
}
